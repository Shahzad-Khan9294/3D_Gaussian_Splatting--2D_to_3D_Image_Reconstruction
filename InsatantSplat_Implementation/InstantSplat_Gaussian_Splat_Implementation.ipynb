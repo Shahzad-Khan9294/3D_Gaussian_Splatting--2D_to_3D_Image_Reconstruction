{
  "nbformat": 4,
  "nbformat_minor": 0,
  "metadata": {
    "colab": {
      "provenance": [],
      "gpuType": "T4"
    },
    "kernelspec": {
      "name": "python3",
      "display_name": "Python 3"
    },
    "language_info": {
      "name": "python"
    },
    "accelerator": "GPU"
  },
  "cells": [
    {
      "cell_type": "code",
      "execution_count": null,
      "metadata": {
        "id": "IuUdZxz1PmUo",
        "colab": {
          "base_uri": "https://localhost:8080/"
        },
        "outputId": "2b714044-3df7-4f4b-b569-b2873c906399"
      },
      "outputs": [
        {
          "output_type": "stream",
          "name": "stdout",
          "text": [
            "Cloning into 'InstantSplat'...\n",
            "remote: Enumerating objects: 384, done.\u001b[K\n",
            "remote: Counting objects: 100% (159/159), done.\u001b[K\n",
            "remote: Compressing objects: 100% (115/115), done.\u001b[K\n",
            "remote: Total 384 (delta 77), reused 44 (delta 44), pack-reused 225 (from 1)\u001b[K\n",
            "Receiving objects: 100% (384/384), 83.72 MiB | 24.45 MiB/s, done.\n",
            "Resolving deltas: 100% (114/114), done.\n",
            "Submodule 'croco' (https://github.com/naver/croco) registered for path 'croco'\n",
            "Submodule 'submodules/diff-gaussian-rasterization' (https://github.com/graphdeco-inria/diff-gaussian-rasterization.git) registered for path 'submodules/diff-gaussian-rasterization'\n",
            "Submodule 'submodules/fused-ssim' (https://github.com/rahul-goel/fused-ssim.git) registered for path 'submodules/fused-ssim'\n",
            "Submodule 'submodules/simple-knn' (https://gitlab.inria.fr/bkerbl/simple-knn.git) registered for path 'submodules/simple-knn'\n",
            "Cloning into '/content/InstantSplat/croco'...\n",
            "remote: Enumerating objects: 175, done.        \n",
            "remote: Counting objects: 100% (107/107), done.        \n",
            "remote: Compressing objects: 100% (70/70), done.        \n",
            "remote: Total 175 (delta 49), reused 65 (delta 37), pack-reused 68 (from 1)        \n",
            "Receiving objects: 100% (175/175), 424.26 KiB | 2.63 MiB/s, done.\n",
            "Resolving deltas: 100% (67/67), done.\n",
            "Cloning into '/content/InstantSplat/submodules/diff-gaussian-rasterization'...\n",
            "remote: Enumerating objects: 329, done.        \n",
            "remote: Total 329 (delta 0), reused 0 (delta 0), pack-reused 329 (from 1)        \n",
            "Receiving objects: 100% (329/329), 111.52 KiB | 5.31 MiB/s, done.\n",
            "Resolving deltas: 100% (217/217), done.\n",
            "Cloning into '/content/InstantSplat/submodules/fused-ssim'...\n",
            "remote: Enumerating objects: 134, done.        \n",
            "remote: Counting objects: 100% (37/37), done.        \n",
            "remote: Compressing objects: 100% (20/20), done.        \n",
            "remote: Total 134 (delta 20), reused 17 (delta 17), pack-reused 97 (from 1)        \n",
            "Receiving objects: 100% (134/134), 3.90 MiB | 31.68 MiB/s, done.\n",
            "Resolving deltas: 100% (66/66), done.\n",
            "Cloning into '/content/InstantSplat/submodules/simple-knn'...\n",
            "remote: Enumerating objects: 37, done.        \n",
            "remote: Counting objects: 100% (37/37), done.        \n",
            "remote: Compressing objects: 100% (34/34), done.        \n",
            "remote: Total 37 (delta 18), reused 0 (delta 0), pack-reused 0 (from 0)        \n",
            "Receiving objects: 100% (37/37), 9.46 KiB | 9.46 MiB/s, done.\n",
            "Resolving deltas: 100% (18/18), done.\n",
            "Submodule path 'croco': checked out 'd3d0ab2858d44bcad54e5bfc24f565983fbe18d9'\n",
            "Submodule path 'submodules/diff-gaussian-rasterization': checked out '59f5f77e3ddbac3ed9db93ec2cfe99ed6c5d121d'\n",
            "Submodule 'third_party/glm' (https://github.com/g-truc/glm.git) registered for path 'submodules/diff-gaussian-rasterization/third_party/glm'\n",
            "Cloning into '/content/InstantSplat/submodules/diff-gaussian-rasterization/third_party/glm'...\n",
            "remote: Enumerating objects: 59935, done.        \n",
            "remote: Counting objects: 100% (217/217), done.        \n",
            "remote: Compressing objects: 100% (91/91), done.        \n",
            "remote: Total 59935 (delta 170), reused 126 (delta 126), pack-reused 59718 (from 2)        \n",
            "Receiving objects: 100% (59935/59935), 71.36 MiB | 29.69 MiB/s, done.\n",
            "Resolving deltas: 100% (45400/45400), done.\n",
            "Submodule path 'submodules/diff-gaussian-rasterization/third_party/glm': checked out '5c46b9c07008ae65cb81ab79cd677ecc1934b903'\n",
            "Submodule path 'submodules/fused-ssim': checked out 'd99e3d27513fa3563d98f74fcd40fd429e9e9b0e'\n",
            "Submodule path 'submodules/simple-knn': checked out '86710c2d4b46680c02301765dd79e465819c8f19'\n"
          ]
        }
      ],
      "source": [
        "!git clone --recursive https://github.com/NVlabs/InstantSplat.git"
      ]
    },
    {
      "cell_type": "code",
      "source": [
        "import os\n",
        "print(os.getcwd())"
      ],
      "metadata": {
        "colab": {
          "base_uri": "https://localhost:8080/"
        },
        "id": "Ty0lf3jZ7Mj8",
        "outputId": "a2fd7d01-d3c4-4d7c-df7d-44a03491e981"
      },
      "execution_count": null,
      "outputs": [
        {
          "output_type": "stream",
          "name": "stdout",
          "text": [
            "/content/InstantSplat/submodules/fused-ssim\n"
          ]
        }
      ]
    },
    {
      "cell_type": "code",
      "source": [
        "%cd .."
      ],
      "metadata": {
        "colab": {
          "base_uri": "https://localhost:8080/"
        },
        "id": "iLtCRKFz92VH",
        "outputId": "e2c89f75-5283-40ce-d9bf-48014025b6ec"
      },
      "execution_count": null,
      "outputs": [
        {
          "output_type": "stream",
          "name": "stdout",
          "text": [
            "/content/InstantSplat\n"
          ]
        }
      ]
    },
    {
      "cell_type": "code",
      "source": [
        "!pip uninstall -y torch torchvision torchaudio\n",
        "\n",
        "# Install PyTorch built with CUDA 12.1 (works with 12.5 driver too)\n",
        "!pip install torch==2.3.1+cu121 torchvision==0.18.1+cu121 torchaudio==2.3.1 --index-url https://download.pytorch.org/whl/cu121"
      ],
      "metadata": {
        "id": "olVcCB-E89J3"
      },
      "execution_count": null,
      "outputs": []
    },
    {
      "cell_type": "code",
      "source": [
        "%cd /content/InstantSplat/submodules/simple-knn\n",
        "!rm -rf build dist *.egg-info simple_knn/_C*.so\n",
        "!pip install -e .\n",
        "\n",
        "%cd /content/InstantSplat/submodules/diff-gaussian-rasterization\n",
        "!rm -rf build dist *.egg-info diff_gaussian_rasterization/_C*.so\n",
        "!pip install -e .\n",
        "\n",
        "%cd /content/InstantSplat/submodules/fused-ssim\n",
        "!rm -rf build dist *.egg-info fused_ssim/_C*.so\n",
        "!pip install -e ."
      ],
      "metadata": {
        "colab": {
          "base_uri": "https://localhost:8080/"
        },
        "id": "5UT889yu9p-n",
        "outputId": "98929b31-b3e7-4154-feec-d2992d76f752"
      },
      "execution_count": null,
      "outputs": [
        {
          "output_type": "stream",
          "name": "stdout",
          "text": [
            "/content/InstantSplat/submodules/simple-knn\n",
            "Obtaining file:///content/InstantSplat/submodules/simple-knn\n",
            "  Preparing metadata (setup.py) ... \u001b[?25l\u001b[?25hdone\n",
            "Installing collected packages: simple_knn\n",
            "  Running setup.py develop for simple_knn\n",
            "Successfully installed simple_knn-0.0.0\n",
            "/content/InstantSplat/submodules/diff-gaussian-rasterization\n",
            "Obtaining file:///content/InstantSplat/submodules/diff-gaussian-rasterization\n",
            "  Preparing metadata (setup.py) ... \u001b[?25l\u001b[?25hdone\n",
            "Installing collected packages: diff_gaussian_rasterization\n",
            "  Running setup.py develop for diff_gaussian_rasterization\n",
            "Successfully installed diff_gaussian_rasterization-0.0.0\n",
            "/content/InstantSplat/submodules/fused-ssim\n",
            "Obtaining file:///content/InstantSplat/submodules/fused-ssim\n",
            "  Preparing metadata (setup.py) ... \u001b[?25l\u001b[?25hdone\n",
            "Installing collected packages: fused_ssim\n",
            "  Running setup.py develop for fused_ssim\n",
            "Successfully installed fused_ssim-0.0.0\n"
          ]
        }
      ]
    },
    {
      "cell_type": "code",
      "source": [
        "import os, sys\n",
        "sys.path.append(\"/content/InstantSplat\")\n",
        "sys.path.append(\"/content/InstantSplat/mast3r\")\n",
        "sys.path.append(\"/content/InstantSplat/dust3r\")\n",
        "sys.path.append(\"/content/InstantSplat/scripts\")\n",
        "sys.path.append(\"/content/InstantSplat/submodules\")"
      ],
      "metadata": {
        "id": "gRRm2htKMq3a"
      },
      "execution_count": null,
      "outputs": []
    },
    {
      "cell_type": "code",
      "source": [
        "sys.path"
      ],
      "metadata": {
        "colab": {
          "base_uri": "https://localhost:8080/"
        },
        "id": "vsFx98IqM3Gl",
        "outputId": "048c05b5-1f37-4694-d516-eedb699d8722"
      },
      "execution_count": null,
      "outputs": [
        {
          "output_type": "execute_result",
          "data": {
            "text/plain": [
              "['/content',\n",
              " '/env/python',\n",
              " '/usr/lib/python312.zip',\n",
              " '/usr/lib/python3.12',\n",
              " '/usr/lib/python3.12/lib-dynload',\n",
              " '',\n",
              " '/usr/local/lib/python3.12/dist-packages',\n",
              " '/usr/lib/python3/dist-packages',\n",
              " '/usr/local/lib/python3.12/dist-packages/IPython/extensions',\n",
              " '/root/.ipython',\n",
              " '/content/InstantSplat',\n",
              " '/content/InstantSplat/mast3r',\n",
              " '/content/InstantSplat/dust3r',\n",
              " '/content/InstantSplat/submodules',\n",
              " '/content/InstantSplat/scripts']"
            ]
          },
          "metadata": {},
          "execution_count": 37
        }
      ]
    },
    {
      "cell_type": "code",
      "source": [
        "%cd content/InstantSplat"
      ],
      "metadata": {
        "colab": {
          "base_uri": "https://localhost:8080/"
        },
        "id": "OoXhQY9OMjJs",
        "outputId": "7f969ce6-db27-4b5b-bd04-3802760a72bc"
      },
      "execution_count": null,
      "outputs": [
        {
          "output_type": "stream",
          "name": "stdout",
          "text": [
            "/content/InstantSplat\n"
          ]
        }
      ]
    },
    {
      "cell_type": "code",
      "source": [
        "!mkdir -p mast3r/checkpoints/\n",
        "!wget https://download.europe.naverlabs.com/ComputerVision/MASt3R/MASt3R_ViTLarge_BaseDecoder_512_catmlpdpt_metric.pth -P mast3r/checkpoints/"
      ],
      "metadata": {
        "colab": {
          "base_uri": "https://localhost:8080/"
        },
        "id": "I7FTKyPgMXWY",
        "outputId": "cbca7f53-152c-4185-9e9e-f3af66d0adbe"
      },
      "execution_count": null,
      "outputs": [
        {
          "output_type": "stream",
          "name": "stdout",
          "text": [
            "--2025-08-26 09:35:43--  https://download.europe.naverlabs.com/ComputerVision/MASt3R/MASt3R_ViTLarge_BaseDecoder_512_catmlpdpt_metric.pth\n",
            "Resolving download.europe.naverlabs.com (download.europe.naverlabs.com)... 110.234.56.25\n",
            "Connecting to download.europe.naverlabs.com (download.europe.naverlabs.com)|110.234.56.25|:443... connected.\n",
            "HTTP request sent, awaiting response... 200 OK\n",
            "Length: 2754910614 (2.6G)\n",
            "Saving to: ‘mast3r/checkpoints/MASt3R_ViTLarge_BaseDecoder_512_catmlpdpt_metric.pth’\n",
            "\n",
            "MASt3R_ViTLarge_Bas 100%[===================>]   2.57G  23.5MB/s    in 2m 1s   \n",
            "\n",
            "2025-08-26 09:37:45 (21.8 MB/s) - ‘mast3r/checkpoints/MASt3R_ViTLarge_BaseDecoder_512_catmlpdpt_metric.pth’ saved [2754910614/2754910614]\n",
            "\n"
          ]
        }
      ]
    },
    {
      "cell_type": "code",
      "source": [
        "!nvcc --version"
      ],
      "metadata": {
        "colab": {
          "base_uri": "https://localhost:8080/"
        },
        "id": "ABXzZjjWPvjp",
        "outputId": "8864a89b-a1d4-4e64-87a5-21dd799806f8"
      },
      "execution_count": null,
      "outputs": [
        {
          "output_type": "stream",
          "name": "stdout",
          "text": [
            "nvcc: NVIDIA (R) Cuda compiler driver\n",
            "Copyright (c) 2005-2024 NVIDIA Corporation\n",
            "Built on Thu_Jun__6_02:18:23_PDT_2024\n",
            "Cuda compilation tools, release 12.5, V12.5.82\n",
            "Build cuda_12.5.r12.5/compiler.34385749_0\n"
          ]
        }
      ]
    },
    {
      "cell_type": "code",
      "source": [
        "!ls"
      ],
      "metadata": {
        "colab": {
          "base_uri": "https://localhost:8080/"
        },
        "id": "jGnPkai_SJPE",
        "outputId": "a8a7cc9b-977d-46ac-a599-245b36be7465"
      },
      "execution_count": null,
      "outputs": [
        {
          "output_type": "stream",
          "name": "stdout",
          "text": [
            "arguments   dust3r\t       LICENSE\t     README.md\t       scripts\n",
            "assets\t    gaussian_renderer  lpipsPyTorch  render.py\t       submodules\n",
            "croco\t    init_geo.py        mast3r\t     requirements.txt  train.py\n",
            "Dockerfile  init_test_pose.py  metrics.py    scene\t       utils\n"
          ]
        }
      ]
    },
    {
      "cell_type": "code",
      "source": [
        "#!pip install torchvision==0.20.1+cu118 torchaudio --index-url https://download.pytorch.org/whl/cu118"
      ],
      "metadata": {
        "id": "YXKF_tx9RAWW"
      },
      "execution_count": null,
      "outputs": []
    },
    {
      "cell_type": "code",
      "source": [
        "!pip install -r requirements.txt"
      ],
      "metadata": {
        "id": "tPnOkoOjRAZD"
      },
      "execution_count": null,
      "outputs": []
    },
    {
      "cell_type": "code",
      "source": [
        "# DUST3R relies on RoPE positional embeddings for which you can compile some cuda kernels for faster runtime.\n",
        "\n",
        "#%cd croco/models/curope/"
      ],
      "metadata": {
        "colab": {
          "base_uri": "https://localhost:8080/"
        },
        "id": "1tPCjcN_ZcmV",
        "outputId": "0017c035-f850-44a3-cb3c-9871b3ab631f"
      },
      "execution_count": null,
      "outputs": [
        {
          "output_type": "stream",
          "name": "stdout",
          "text": [
            "/content/InstantSplat/croco/models/curope\n"
          ]
        }
      ]
    },
    {
      "cell_type": "code",
      "source": [
        "#!apt-get install -y cuda-toolkit-11-8"
      ],
      "metadata": {
        "id": "QQFtwLKydRDU"
      },
      "execution_count": null,
      "outputs": []
    },
    {
      "cell_type": "code",
      "source": [
        "\"\"\"\n",
        "!python setup.py clean\n",
        "!python setup.py build_ext --inplace\n",
        "\"\"\""
      ],
      "metadata": {
        "id": "QkiToqDxb8M0"
      },
      "execution_count": null,
      "outputs": []
    },
    {
      "cell_type": "code",
      "source": [
        "#!python setup.py build_ext --inplace"
      ],
      "metadata": {
        "id": "ZroPhZoiRAbe"
      },
      "execution_count": null,
      "outputs": []
    },
    {
      "cell_type": "code",
      "source": [
        "# Data preparation (download our pre-processed data from: Hugging Face or Google Drive)\n",
        "\n",
        "#%cd <data_path>"
      ],
      "metadata": {
        "id": "ifIw_V2cRAeA"
      },
      "execution_count": null,
      "outputs": []
    },
    {
      "cell_type": "code",
      "source": [
        "# InstantSplat train and output video (no GT reference, render by interpolation) using the following command.\n",
        "# Users can place their data in the 'assets/examples/<scene_name>/images' folder and run the following command directly.\n",
        "\n",
        "!bash scripts/run_infer.sh"
      ],
      "metadata": {
        "id": "uq2HHlmvRAhX",
        "colab": {
          "base_uri": "https://localhost:8080/"
        },
        "outputId": "b45354bb-5a0c-42c9-f977-74d6e0399c57"
      },
      "execution_count": null,
      "outputs": [
        {
          "output_type": "stream",
          "name": "stdout",
          "text": [
            "Processing task 1 / 1\n",
            "=======================================================\n",
            "Starting process: examples/Room_Scene (7 views/1000 iters) on GPU 0\n",
            "=======================================================\n",
            "[2025-08-26 12:12:56] Starting Co-visible Global Geometry Initialization...\n",
            "[2025-08-26 12:14:09] Co-visible Global Geometry Initialization completed. Log saved in ./output_infer/examples/Room_Scene/7_views/01_init_geo.log\n",
            "[2025-08-26 12:14:09] Starting training...\n",
            "[2025-08-26 12:16:31] Training completed. Log saved in ./output_infer/examples/Room_Scene/7_views/02_train.log\n",
            "[2025-08-26 12:16:31] Starting rendering training views...\n",
            "[2025-08-26 12:18:49] Rendering completed. Log saved in ./output_infer/examples/Room_Scene/7_views/03_render.log\n",
            "=======================================================\n",
            "Task completed: examples/Room_Scene (7 views/1000 iters) on GPU 0\n",
            "=======================================================\n",
            "=======================================================\n",
            "All tasks completed! Processed 1 tasks in total.\n",
            "=======================================================\n"
          ]
        }
      ]
    },
    {
      "cell_type": "code",
      "source": [
        "# InstantSplat train and evaluate (with GT reference) using the following command.\n",
        "\n",
        "#!bash scripts/run_eval.sh"
      ],
      "metadata": {
        "id": "GoBX0ATRR_pk"
      },
      "execution_count": null,
      "outputs": []
    },
    {
      "cell_type": "code",
      "source": [],
      "metadata": {
        "id": "GMmqw7_VTGW-"
      },
      "execution_count": null,
      "outputs": []
    },
    {
      "cell_type": "code",
      "source": [
        "!rm -rf /content/InstantSplat/output_infer"
      ],
      "metadata": {
        "id": "fIVDwQXETGtm"
      },
      "execution_count": null,
      "outputs": []
    },
    {
      "cell_type": "code",
      "source": [],
      "metadata": {
        "id": "zfnq2VWtTQtn"
      },
      "execution_count": null,
      "outputs": []
    }
  ]
}