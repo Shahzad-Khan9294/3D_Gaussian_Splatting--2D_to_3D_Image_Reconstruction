{
  "nbformat": 4,
  "nbformat_minor": 0,
  "metadata": {
    "colab": {
      "provenance": [],
      "gpuType": "T4"
    },
    "kernelspec": {
      "name": "python3",
      "display_name": "Python 3"
    },
    "language_info": {
      "name": "python"
    },
    "accelerator": "GPU"
  },
  "cells": [
    {
      "cell_type": "markdown",
      "source": [
        "**GSPLAT**"
      ],
      "metadata": {
        "id": "Ukfsu31H6Hfx"
      }
    },
    {
      "cell_type": "code",
      "source": [
        "!nvcc --version"
      ],
      "metadata": {
        "id": "a3AnoxPF5dQu"
      },
      "execution_count": null,
      "outputs": []
    },
    {
      "cell_type": "code",
      "execution_count": null,
      "metadata": {
        "id": "rDok--F75cHZ"
      },
      "outputs": [],
      "source": [
        "!git clone https://github.com/nerfstudio-project/gsplat.git"
      ]
    },
    {
      "cell_type": "code",
      "source": [
        "!rm -rf \"/content/gsplat/gsplat/cuda/csrc/third_party/glm/\""
      ],
      "metadata": {
        "id": "euOiP0eA5i9I"
      },
      "execution_count": null,
      "outputs": []
    },
    {
      "cell_type": "code",
      "source": [
        "!git clone https://github.com/g-truc/glm.git\n",
        "\n",
        "!mv glm \"/content/gsplat/gsplat/cuda/csrc/third_party\""
      ],
      "metadata": {
        "id": "hVQQa3F55i_P"
      },
      "execution_count": null,
      "outputs": []
    },
    {
      "cell_type": "code",
      "source": [
        "import sys, os\n",
        "\n",
        "sys.path.insert(0, \"/content/gsplat\")\n",
        "sys.path.insert(0, \"/content/gsplat/gsplat\")\n",
        "sys.path.insert(0, \"/content/gsplat/examples\")\n",
        "sys.path.append(0, \"/content/gsplat/examples/datasets\")\n",
        "sys.path.insert(0, \"/content/gsplat/gsplat/cuda/csrc/third_party/glm\")"
      ],
      "metadata": {
        "id": "zc327a5n5jBb"
      },
      "execution_count": null,
      "outputs": []
    },
    {
      "cell_type": "code",
      "source": [
        "import sys\n",
        "sys.path"
      ],
      "metadata": {
        "id": "ArRGdVzoKILC"
      },
      "execution_count": null,
      "outputs": []
    },
    {
      "cell_type": "code",
      "source": [
        "%cd /content/gsplat"
      ],
      "metadata": {
        "id": "v7EnZJdIJIMD"
      },
      "execution_count": null,
      "outputs": []
    },
    {
      "cell_type": "code",
      "source": [
        "\"\"\"import sys, os\n",
        "#sys.path.insert(0, \"/content/vcpkg\")\n",
        "sys.path.insert(0, \"/content/gsplat/examples\")\n",
        "sys.path.insert(0, \"/content/gsplat/examples/datasets\")\n",
        "sys.path.insert(0, \"/content/gsplat/gsplat/rendering.py\")\n",
        "\"\"\""
      ],
      "metadata": {
        "id": "1C5OFA4H5jD5"
      },
      "execution_count": null,
      "outputs": []
    },
    {
      "cell_type": "code",
      "source": [
        "!pip install gsplat"
      ],
      "metadata": {
        "id": "vNV_Fu2Y5jGX"
      },
      "execution_count": null,
      "outputs": []
    },
    {
      "cell_type": "code",
      "source": [
        "%cd /content/gsplat"
      ],
      "metadata": {
        "id": "J1_xrH925jJv"
      },
      "execution_count": null,
      "outputs": []
    },
    {
      "cell_type": "markdown",
      "source": [
        "**Set Configuration**"
      ],
      "metadata": {
        "id": "fSrOvuz6CV7K"
      }
    },
    {
      "cell_type": "code",
      "source": [
        "!pip install ninja numpy jaxtyping rich\n",
        "!pip install gsplat --index-url https://docs.gsplat.studio/whl/pt20cu118"
      ],
      "metadata": {
        "id": "ybEL43Bm5svU"
      },
      "execution_count": null,
      "outputs": []
    },
    {
      "cell_type": "code",
      "source": [
        "!pip install -r examples/requirements.txt"
      ],
      "metadata": {
        "id": "35ruGwYo5sxu"
      },
      "execution_count": null,
      "outputs": []
    },
    {
      "cell_type": "code",
      "source": [
        "import os\n",
        "print(os.getcwd())"
      ],
      "metadata": {
        "id": "ZXMsyI_n5sz1"
      },
      "execution_count": null,
      "outputs": []
    },
    {
      "cell_type": "markdown",
      "source": [
        "**Set Configuration**"
      ],
      "metadata": {
        "id": "J0hOdEc_N_57"
      }
    },
    {
      "cell_type": "code",
      "source": [
        "\"\"\"\n",
        "from simple_trainer import Config\n",
        "\n",
        "# Create config object with overrides\n",
        "cfg = Config(\n",
        "    data_dir=\"/content/my_colmap_dataset\",\n",
        "    result_dir=\"/content/results/my_scene\",\n",
        "    data_factor=1,\n",
        "    max_steps=30_000,\n",
        "    save_steps=[7_000, 30_000],\n",
        "    save_ply=True,\n",
        "    ply_steps=[7_000, 30_000],\n",
        "    init_num_pts=100_000,\n",
        "    pose_opt=True,\n",
        "    app_opt=True,\n",
        "    disable_viewer=True\n",
        ")\n",
        "print(cfg)\n",
        "\"\"\""
      ],
      "metadata": {
        "id": "4UIu49gn-3y9"
      },
      "execution_count": null,
      "outputs": []
    },
    {
      "cell_type": "markdown",
      "source": [
        "**COLMAP**"
      ],
      "metadata": {
        "id": "7ho9ymq86DHY"
      }
    },
    {
      "cell_type": "code",
      "source": [
        "# @title Frames Extraction Pipeline\n",
        "import cv2\n",
        "import os\n",
        "\n",
        "def extract_frames(video_path, output_dir, frames_per_second=5):\n",
        "\n",
        "    # Ensure output folder exists\n",
        "    os.makedirs(output_dir, exist_ok=True)\n",
        "\n",
        "    # Open video\n",
        "    cap = cv2.VideoCapture(video_path)\n",
        "    if not cap.isOpened():\n",
        "        raise ValueError(f\"Cannot open video: {video_path}\")\n",
        "\n",
        "    # Video properties\n",
        "    fps = cap.get(cv2.CAP_PROP_FPS)\n",
        "    frame_step = int(max(1, fps // frames_per_second))  # Step between frames\n",
        "\n",
        "    frame_count, saved_count = 0, 0\n",
        "\n",
        "    while True:\n",
        "        ret, frame = cap.read()\n",
        "        if not ret:\n",
        "            break\n",
        "\n",
        "        # Save frame at interval\n",
        "        if frame_count % frame_step == 0:\n",
        "            filename = os.path.join(output_dir, f\"frame_{saved_count:05d}.jpg\")\n",
        "            cv2.imwrite(filename, frame)\n",
        "            saved_count += 1\n",
        "\n",
        "        frame_count += 1\n",
        "\n",
        "    cap.release()\n",
        "    print(f\" Saved {saved_count} frames in '{output_dir}'\")\n",
        "\n",
        "\n",
        "video_path = \"path/to/input_video.mp4\"\n",
        "output_dir = \"/content/gsplat/data/Room_Data/images\"\n",
        "frames_per_second = 5  # Frames to extract per second\n",
        "\n",
        "extract_frames(video_path, output_dir, frames_per_second)"
      ],
      "metadata": {
        "cellView": "form",
        "id": "FoM5BRHaDhzZ"
      },
      "execution_count": null,
      "outputs": []
    },
    {
      "cell_type": "code",
      "source": [
        "!sudo apt-get install colmap"
      ],
      "metadata": {
        "id": "hGJ1_6OQ5s3O"
      },
      "execution_count": null,
      "outputs": []
    },
    {
      "cell_type": "code",
      "source": [
        "!colmap -h"
      ],
      "metadata": {
        "id": "I9167U2j6GLC"
      },
      "execution_count": null,
      "outputs": []
    },
    {
      "cell_type": "code",
      "source": [
        "import os\n",
        "os.environ[\"QT_QPA_PLATFORM\"] = \"offscreen\"\n",
        "\n",
        "# Paths\n",
        "IMAGE_PATH=\"/content/gsplat/data/Room_Data/images\"\n",
        "SPARSE_PATH=\"/content/gsplat/data/Room_Data/sparse\"\n",
        "DATABASE_PATH=\"/content/gsplat/data/Room_Data/database.db\"\n",
        "\n",
        "# Create directories\n",
        "!mkdir -p $SPARSE_PATH\n",
        "!mkdir -p $(dirname $DATABASE_PATH)\n",
        "\n",
        "# Feature extraction\n",
        "!colmap feature_extractor \\\n",
        "    --database_path $DATABASE_PATH \\\n",
        "    --image_path $IMAGE_PATH \\\n",
        "    --SiftExtraction.use_gpu 0 \\\n",
        "    --SiftExtraction.estimate_affine_shape 1 \\\n",
        "    --SiftExtraction.domain_size_pooling 1\n",
        "\n",
        "# Feature matching\n",
        "!colmap exhaustive_matcher \\\n",
        "    --database_path $DATABASE_PATH \\\n",
        "    --SiftMatching.use_gpu 0\n",
        "\n",
        "# Sparse reconstruction (SfM mapper)\n",
        "!colmap mapper \\\n",
        "    --database_path $DATABASE_PATH \\\n",
        "    --image_path $IMAGE_PATH \\\n",
        "    --output_path $SPARSE_PATH"
      ],
      "metadata": {
        "id": "yxqom3o36GNb"
      },
      "execution_count": null,
      "outputs": []
    },
    {
      "cell_type": "markdown",
      "source": [
        "**TRAINING GSPLAT**"
      ],
      "metadata": {
        "id": "iT-H7BgP7Qvw"
      }
    },
    {
      "cell_type": "code",
      "source": [
        "!PYTHONPATH=$(pwd):$PYTHONPATH CUDA_VISIBLE_DEVICES=0 \\     #CUDA_VISIBLE_DEVICES=0 - Set Accordingly\n",
        "  python examples/simple_trainer.py default \\\n",
        "  --data_dir /content/gsplat/data/Room_Data \\\n",
        "  --data_factor 1 \\\n",
        "  --result_dir /content/results/my_dataset"
      ],
      "metadata": {
        "id": "Xvcc984u6GPz"
      },
      "execution_count": null,
      "outputs": []
    },
    {
      "cell_type": "code",
      "source": [],
      "metadata": {
        "id": "kz8LSN4I6GSf"
      },
      "execution_count": null,
      "outputs": []
    },
    {
      "cell_type": "code",
      "source": [],
      "metadata": {
        "id": "GKy8C5Rs6GWE"
      },
      "execution_count": null,
      "outputs": []
    }
  ]
}