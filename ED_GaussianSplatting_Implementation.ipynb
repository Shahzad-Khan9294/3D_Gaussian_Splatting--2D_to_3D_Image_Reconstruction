{
  "cells": [
    {
      "cell_type": "markdown",
      "metadata": {
        "id": "FrqzIU2aKdAC"
      },
      "source": [
        "**EDGS COLAB:** https://colab.research.google.com/github/CompVis/EDGS/blob/main/notebooks/fit_model_to_scene_full.ipynb#scrollTo=5b039ea9-e9ea-41a7-b487-cc799a3ebf85"
      ]
    },
    {
      "cell_type": "code",
      "execution_count": null,
      "metadata": {
        "colab": {
          "base_uri": "https://localhost:8080/"
        },
        "id": "iP7yNJF_X_BT",
        "outputId": "6b63c228-d2f7-4490-e6c6-3f4537ce4dbb"
      },
      "outputs": [],
      "source": [
        "# Clone repo and initialize submodules\n",
        "!git clone https://github.com/Parskatt/RoMa.git\n",
        "!git clone https://github.com/camenduru/simple-knn.git\n",
        "!git clone https://github.com/CompVis/EDGS.git --recursive\n",
        "!git clone https://github.com/graphdeco-inria/gaussian-splatting.git\n",
        "!git clone https://github.com/graphdeco-inria/diff-gaussian-rasterization.git"
      ]
    },
    {
      "cell_type": "code",
      "execution_count": 2,
      "metadata": {
        "id": "qUvH-FK6HRSn"
      },
      "outputs": [],
      "source": [
        "import sys, os\n",
        "\n",
        "if 'scene' in sys.modules:\n",
        "    del sys.modules['scene']  # Remove any existing 'scene' from sys.modules to avoid cached imports\n",
        "\n",
        "sys.path.insert(0, \"/content/EDGS\")\n",
        "sys.path.insert(0, \"/content/RoMa\")\n",
        "sys.path.insert(0, \"/content/simple-knn\")\n",
        "sys.path.insert(0, \"/content/gaussian-splatting\")\n",
        "sys.path.insert(0, \"/content/diff-gaussian-rasterization\")"
      ]
    },
    {
      "cell_type": "code",
      "execution_count": null,
      "metadata": {
        "colab": {
          "base_uri": "https://localhost:8080/"
        },
        "id": "SPCwbzPjYbwH",
        "outputId": "2f8be012-1edd-4729-c8ff-1a158b969623"
      },
      "outputs": [],
      "source": [
        "!nvcc --version"
      ]
    },
    {
      "cell_type": "code",
      "execution_count": null,
      "metadata": {
        "id": "pBEcMJrrYFTD"
      },
      "outputs": [],
      "source": [
        "!pip install torch torchvision torchaudio --index-url https://download.pytorch.org/whl/cu121"
      ]
    },
    {
      "cell_type": "code",
      "execution_count": null,
      "metadata": {
        "colab": {
          "base_uri": "https://localhost:8080/"
        },
        "id": "kbV8DgGryQ5b",
        "outputId": "39d88745-b2b6-4143-b6d3-11cb21fa4cd3"
      },
      "outputs": [],
      "source": [
        "import os\n",
        "print(os.getcwd())"
      ]
    },
    {
      "cell_type": "code",
      "execution_count": null,
      "metadata": {
        "colab": {
          "base_uri": "https://localhost:8080/"
        },
        "id": "tk-ULHQYygQe",
        "outputId": "863a0842-15ab-4b3e-a996-9f258c9a59e3"
      },
      "outputs": [],
      "source": [
        "%cd /content/diff-gaussian-rasterization"
      ]
    },
    {
      "cell_type": "code",
      "execution_count": null,
      "metadata": {
        "colab": {
          "base_uri": "https://localhost:8080/"
        },
        "id": "coEuOlEz11TC",
        "outputId": "9accc64a-1cac-4f82-c801-9f2d19655453"
      },
      "outputs": [],
      "source": [
        "# Make sure third_party folder exists\n",
        "!mkdir -p third_party\n",
        "\n",
        "# Get GLM from official repo\n",
        "!git clone https://github.com/g-truc/glm.git third_party/glm"
      ]
    },
    {
      "cell_type": "code",
      "execution_count": null,
      "metadata": {
        "colab": {
          "base_uri": "https://localhost:8080/"
        },
        "id": "hVALkS5d1FmD",
        "outputId": "87b84c12-1249-404b-c998-d656ddd21a98"
      },
      "outputs": [],
      "source": [
        "!pip install -e ."
      ]
    },
    {
      "cell_type": "code",
      "execution_count": null,
      "metadata": {
        "colab": {
          "base_uri": "https://localhost:8080/"
        },
        "id": "uRV6w8VA3zlX",
        "outputId": "9e4c1142-b24e-4fab-cff0-804ec7858002"
      },
      "outputs": [],
      "source": [
        "%cd /content"
      ]
    },
    {
      "cell_type": "markdown",
      "metadata": {
        "id": "TTq3oZrf4aEu"
      },
      "source": [
        "**Testig the Running of Gaussian Rasterization Installation**"
      ]
    },
    {
      "cell_type": "code",
      "execution_count": 11,
      "metadata": {
        "id": "8Sfa9vV23cyH"
      },
      "outputs": [],
      "source": [
        "import torch\n",
        "from diff_gaussian_rasterization import GaussianRasterizer, GaussianRasterizationSettings"
      ]
    },
    {
      "cell_type": "code",
      "execution_count": null,
      "metadata": {
        "colab": {
          "base_uri": "https://localhost:8080/"
        },
        "id": "SuzHMncRYlXI",
        "outputId": "224567e0-6df1-4805-f4a9-044dd8b13a83"
      },
      "outputs": [],
      "source": [
        "# Example: make dummy rasterization settings\n",
        "settings = GaussianRasterizationSettings(\n",
        "    image_height=512,\n",
        "    image_width=512,\n",
        "    tanfovx=1.0,\n",
        "    tanfovy=1.0,\n",
        "    bg=torch.zeros(3, device=\"cuda\"),\n",
        "    scale_modifier=1.0,\n",
        "    viewmatrix=torch.eye(4, device=\"cuda\"),\n",
        "    projmatrix=torch.eye(4, device=\"cuda\"),\n",
        "    sh_degree=0,\n",
        "    campos=torch.zeros(3, device=\"cuda\"),\n",
        "    prefiltered=False,\n",
        "    debug=False\n",
        ")\n",
        "\n",
        "rasterizer = GaussianRasterizer(settings)\n",
        "print(\"GaussianRasterizer ready!\")"
      ]
    },
    {
      "cell_type": "markdown",
      "metadata": {
        "id": "PuL-XBAF4lhX"
      },
      "source": [
        "**Testing Close**"
      ]
    },
    {
      "cell_type": "code",
      "execution_count": null,
      "metadata": {
        "id": "TuFf1whoYlcV"
      },
      "outputs": [],
      "source": [
        "!pip install wandb hydra-core tqdm torchmetrics lpips matplotlib rich plyfile"
      ]
    },
    {
      "cell_type": "markdown",
      "metadata": {
        "id": "sQXnzqZY8O5n"
      },
      "source": [
        "**Install ROMA**"
      ]
    },
    {
      "cell_type": "code",
      "execution_count": null,
      "metadata": {
        "colab": {
          "base_uri": "https://localhost:8080/"
        },
        "id": "XuWVNoge5bgP",
        "outputId": "cce1ccd5-2ef8-4bd6-9d2e-e7c85f93bef9"
      },
      "outputs": [],
      "source": [
        "%cd /content/RoMa"
      ]
    },
    {
      "cell_type": "code",
      "execution_count": null,
      "metadata": {
        "colab": {
          "base_uri": "https://localhost:8080/"
        },
        "id": "Pc4iJb47Ylfb",
        "outputId": "2b34b54b-870b-4057-e914-904606663a69"
      },
      "outputs": [],
      "source": [
        "!pip install -e ."
      ]
    },
    {
      "cell_type": "code",
      "execution_count": null,
      "metadata": {
        "colab": {
          "base_uri": "https://localhost:8080/"
        },
        "id": "BQDsAdhg65Et",
        "outputId": "d95a9ef9-96db-4aae-8343-82509a9ad78d"
      },
      "outputs": [],
      "source": [
        "%cd .."
      ]
    },
    {
      "cell_type": "code",
      "execution_count": null,
      "metadata": {
        "colab": {
          "base_uri": "https://localhost:8080/"
        },
        "id": "CTg23juD7E9_",
        "outputId": "47400621-a862-43a9-8df2-f21aa5edf1ed"
      },
      "outputs": [],
      "source": [
        "import os\n",
        "print(os.getcwd())"
      ]
    },
    {
      "cell_type": "markdown",
      "metadata": {
        "id": "-1VDV6jq8Vh8"
      },
      "source": [
        "**Install Other Dependencies**"
      ]
    },
    {
      "cell_type": "code",
      "execution_count": null,
      "metadata": {
        "colab": {
          "base_uri": "https://localhost:8080/"
        },
        "id": "zdox8P6WYliz",
        "outputId": "2084dbe9-e2ca-4e11-ec1d-380bc402b03e"
      },
      "outputs": [],
      "source": [
        "!pip install pycolmap"
      ]
    },
    {
      "cell_type": "code",
      "execution_count": null,
      "metadata": {
        "colab": {
          "base_uri": "https://localhost:8080/"
        },
        "id": "qJMZGxv26MlV",
        "outputId": "367277b0-5c97-420b-c5ba-3d28e50b0942"
      },
      "outputs": [],
      "source": [
        "!pip install wandb hydra-core tqdm torchmetrics lpips matplotlib rich plyfile imageio imageio-ffmpeg"
      ]
    },
    {
      "cell_type": "code",
      "execution_count": null,
      "metadata": {
        "id": "YZ2dDTJ26guf"
      },
      "outputs": [],
      "source": [
        "!pip install gradio"
      ]
    },
    {
      "cell_type": "code",
      "execution_count": null,
      "metadata": {
        "collapsed": true,
        "id": "bBbNBQMq6q9V"
      },
      "outputs": [],
      "source": [
        "!pip install plotly scikit-learn moviepy==2.1.1 ffmpeg"
      ]
    },
    {
      "cell_type": "code",
      "execution_count": null,
      "metadata": {
        "colab": {
          "base_uri": "https://localhost:8080/"
        },
        "id": "HRGwmRJM6t2e",
        "outputId": "9f329dae-bda3-41cd-b65a-e04543ee9e2f"
      },
      "outputs": [],
      "source": [
        "!pip install opencv-python"
      ]
    },
    {
      "cell_type": "markdown",
      "metadata": {
        "id": "kTOcGs_U8doh"
      },
      "source": [
        "**Install Simple_KNN**"
      ]
    },
    {
      "cell_type": "code",
      "execution_count": null,
      "metadata": {
        "colab": {
          "base_uri": "https://localhost:8080/"
        },
        "id": "UfFVn1gb74O-",
        "outputId": "267bd816-56d0-42ec-b959-5e35dd361d3b"
      },
      "outputs": [],
      "source": [
        "%cd /content/simple-knn"
      ]
    },
    {
      "cell_type": "code",
      "execution_count": null,
      "metadata": {
        "colab": {
          "base_uri": "https://localhost:8080/"
        },
        "id": "Hkt6xqSw7-Ha",
        "outputId": "398d079c-cd42-46d0-a538-9f30c78d5a0b"
      },
      "outputs": [],
      "source": [
        "!pip install -e ."
      ]
    },
    {
      "cell_type": "code",
      "execution_count": null,
      "metadata": {
        "colab": {
          "base_uri": "https://localhost:8080/"
        },
        "id": "uoRErh-48AMh",
        "outputId": "991957d0-9c1b-46c3-e0a6-4e5e228555d8"
      },
      "outputs": [],
      "source": [
        "%cd .."
      ]
    },
    {
      "cell_type": "code",
      "execution_count": null,
      "metadata": {
        "colab": {
          "base_uri": "https://localhost:8080/"
        },
        "id": "KgdbI8xK8iRn",
        "outputId": "9d08e32f-8ad8-4751-fea1-8eb1184126b5"
      },
      "outputs": [],
      "source": [
        "import os\n",
        "print(os.getcwd())"
      ]
    },
    {
      "cell_type": "markdown",
      "metadata": {
        "id": "LQ35BtpL8xKK"
      },
      "source": [
        "**Import Libraries & Configuration file**"
      ]
    },
    {
      "cell_type": "code",
      "execution_count": 27,
      "metadata": {
        "id": "7VJcJjnSHBmY"
      },
      "outputs": [],
      "source": [
        "# Check that scene/__init__.py exists here\n",
        "assert os.path.exists(\"/content/gaussian-splatting/scene/__init__.py\")\n",
        "assert os.path.exists(\"/content/EDGS/configs/train.yaml\")"
      ]
    },
    {
      "cell_type": "code",
      "execution_count": null,
      "metadata": {
        "colab": {
          "base_uri": "https://localhost:8080/"
        },
        "id": "cNjkYHaY_BjR",
        "outputId": "33675200-9687-4c9c-f080-91de703720ad"
      },
      "outputs": [],
      "source": [
        "%cd /content/EDGS"
      ]
    },
    {
      "cell_type": "code",
      "execution_count": null,
      "metadata": {
        "colab": {
          "base_uri": "https://localhost:8080/"
        },
        "id": "YI9EO4sKEaC_",
        "outputId": "d2d91dd2-986e-4819-898b-640dde4bc68b"
      },
      "outputs": [],
      "source": [
        "import os\n",
        "print(os.getcwd())"
      ]
    },
    {
      "cell_type": "code",
      "execution_count": 30,
      "metadata": {
        "id": "NPlufZmV9OLo"
      },
      "outputs": [],
      "source": [
        "import wandb\n",
        "import hydra\n",
        "import torch\n",
        "import random\n",
        "import shutil\n",
        "import omegaconf\n",
        "import numpy as np\n",
        "%matplotlib inline\n",
        "# %matplotlib ipympl\n",
        "from omegaconf import OmegaConf\n",
        "from matplotlib import pyplot as plt\n",
        "from hydra import initialize, compose"
      ]
    },
    {
      "cell_type": "code",
      "execution_count": 31,
      "metadata": {
        "id": "8Rs_shZH8owM"
      },
      "outputs": [],
      "source": [
        "from source.utils_aux import set_seed\n",
        "from source.trainer import EDGSTrainer"
      ]
    },
    {
      "cell_type": "code",
      "execution_count": null,
      "metadata": {
        "colab": {
          "base_uri": "https://localhost:8080/"
        },
        "id": "BdE5jNIe-gCb",
        "outputId": "b674e313-9c61-4122-ac38-72458fa10837"
      },
      "outputs": [],
      "source": [
        "with initialize(config_path=\"../content/EDGS/configs\", version_base=\"1.1\"):\n",
        "    cfg = compose(config_name=\"train\")\n",
        "\n",
        "print(OmegaConf.to_yaml(cfg))"
      ]
    },
    {
      "cell_type": "markdown",
      "metadata": {
        "id": "pM2eeo59K7d0"
      },
      "source": [
        "**Process Video**"
      ]
    },
    {
      "cell_type": "code",
      "execution_count": null,
      "metadata": {
        "colab": {
          "base_uri": "https://localhost:8080/"
        },
        "id": "9zOyAzPLITJ4",
        "outputId": "49b8b490-7830-46e5-d29c-3b3e14d106e7"
      },
      "outputs": [],
      "source": [
        "PATH_TO_VIDEO = \"/content/EDGS/assets/examples/video_fruits.mp4\"\n",
        "num_ref_views = 100 # how many frames you want to extract from video and colmap\n",
        "num_corrs = 10000   # number of feature correspondences\n",
        "\n",
        "if True:\n",
        "    # Full pipeline helpers\n",
        "    from gradio_demo import preprocess_input\n",
        "    from source.utils_preprocess import read_video_frames, preprocess_frames, select_optimal_frames, save_frames_to_scene_dir, run_colmap_on_scene\n",
        "    from source.visualization import generate_circular_camera_path, save_numpy_frames_as_mp4, generate_fully_smooth_cameras_with_tsp, put_text_on_image\n",
        "    # Change to your path\n",
        "    images, scene_dir = preprocess_input(PATH_TO_VIDEO, num_ref_views, num_corrs)\n",
        "    shutil.copytree(scene_dir, '/content/EDGS/assets/video_colmaped/scene',  dirs_exist_ok=True)"
      ]
    },
    {
      "cell_type": "code",
      "execution_count": null,
      "metadata": {
        "id": "qiFyW1WyUsup"
      },
      "outputs": [],
      "source": [
        "import os\n",
        "\n",
        "scene_path = \"/content/EDGS/assets/video_colmaped/scene\"  # or whatever you set in cfg\n",
        "for root, dirs, files in os.walk(scene_path):\n",
        "    level = root.replace(scene_path, \"\").count(os.sep)\n",
        "    indent = \" \" * 4 * (level)\n",
        "    print(f\"{indent}{os.path.basename(root)}/\")\n",
        "    subindent = \" \" * 4 * (level + 1)\n",
        "    for f in files:\n",
        "        print(f\"{subindent}{f}\")"
      ]
    },
    {
      "cell_type": "markdown",
      "metadata": {
        "id": "j6jYZI4bLufi"
      },
      "source": [
        "**Update Config File With your own settings**"
      ]
    },
    {
      "cell_type": "code",
      "execution_count": 36,
      "metadata": {
        "id": "GV4_YmUVKV5k"
      },
      "outputs": [],
      "source": [
        "cfg.wandb.name=\"EDGS.demo.scene\"\n",
        "cfg.wandb.mode=\"disabled\" # \"online\"\n",
        "cfg.gs.dataset.model_path=\"./scene_edgsed/\"  # \"change this to your path to the processed scene\"\n",
        "#cfg.gs.dataset.source_path=\"../assets/scene_colmaped/\" # \"change this to your path\"\n",
        "\n",
        "cfg.gs.dataset.source_path=\"./assets/video_colmaped/scene\"  # < --- For Video\n",
        "\n",
        "\n",
        "cfg.gs.dataset.images=\"images\"\n",
        "cfg.gs.opt.TEST_CAM_IDX_TO_LOG=12\n",
        "cfg.train.gs_epochs=30000\n",
        "cfg.gs.opt.opacity_reset_interval=1_000_000\n",
        "cfg.train.no_densify=False\n",
        "cfg.init_wC.matches_per_ref=15_000\n",
        "cfg.init_wC.nns_per_ref=3\n",
        "cfg.init_wC.num_refs=180\n",
        "cfg.init_wC.roma_model=\"outdoors\"\n",
        "\n",
        "# SH & render\n",
        "cfg.gs.sh_degree = 3\n",
        "cfg.gs.opt.batch_size = 2048   # or 1024/2048/4096 if GPU allows\n",
        "cfg.init_wC.add_SfM_init = True\n",
        "cfg.gs.opt.densify_from_iter = 1000\n",
        "cfg.gs.opt.densify_until_iter = 20000\n",
        "cfg.gs.opt.densification_interval = 800\n",
        "cfg.gs.dataset.white_background = False\n",
        "cfg.gs.pipe.convert_SHs_python = True\n",
        "cfg.gs.pipe.compute_cov3D_python = True"
      ]
    },
    {
      "cell_type": "markdown",
      "metadata": {
        "id": "ueLtfEzBL4_l"
      },
      "source": [
        "# **Initialize Model and Logger**"
      ]
    },
    {
      "cell_type": "code",
      "execution_count": null,
      "metadata": {
        "colab": {
          "base_uri": "https://localhost:8080/"
        },
        "id": "uHs32P7-Slv6",
        "outputId": "855a9ef9-e0cd-4bf0-9856-eec9f59d35b6"
      },
      "outputs": [],
      "source": [
        "!wandb login"
      ]
    },
    {
      "cell_type": "code",
      "execution_count": 40,
      "metadata": {
        "id": "1CkUft2DWdDo"
      },
      "outputs": [],
      "source": [
        "!mkdir -p /root/.cache/torch/hub/checkpoints\n",
        "!cp /content/drive/MyDrive/roma_outdoor.pth /root/.cache/torch/hub/checkpoints/"
      ]
    },
    {
      "cell_type": "code",
      "execution_count": null,
      "metadata": {
        "colab": {
          "base_uri": "https://localhost:8080/",
          "height": 367
        },
        "id": "pJ-fqetAKV76",
        "outputId": "e38d8924-0327-4863-8c8d-6ae142f130a2"
      },
      "outputs": [],
      "source": [
        "_ = wandb.init(entity=cfg.wandb.entity,\n",
        "                   project=cfg.wandb.project,\n",
        "                   config=omegaconf.OmegaConf.to_container(cfg, resolve=True, throw_on_missing=True),\n",
        "                   name = cfg.wandb.name,\n",
        "                   mode = cfg.wandb.mode)\n",
        "omegaconf.OmegaConf.resolve(cfg)\n",
        "set_seed(cfg.seed)\n",
        "# Init output folder\n",
        "print(\"Output folder: {}\".format(cfg.gs.dataset.model_path))\n",
        "os.makedirs(cfg.gs.dataset.model_path, exist_ok=True)\n",
        "# Init gs model\n",
        "gs = hydra.utils.instantiate(cfg.gs)\n",
        "trainer = EDGSTrainer(GS=gs,\n",
        "                      training_config=cfg.gs.opt,\n",
        "                      device=cfg.device)"
      ]
    },
    {
      "cell_type": "markdown",
      "metadata": {
        "id": "dQi3zJcfVpKB"
      },
      "source": [
        "**Init With Matchings**"
      ]
    },
    {
      "cell_type": "code",
      "execution_count": null,
      "metadata": {
        "colab": {
          "base_uri": "https://localhost:8080/"
        },
        "id": "KWJiVTnmVUwa",
        "outputId": "69ea1092-5c15-4caa-b93e-86056d0a3b0a"
      },
      "outputs": [],
      "source": [
        "trainer.timer.start()\n",
        "trainer.init_with_corr(cfg.init_wC)\n",
        "trainer.timer.pause()"
      ]
    },
    {
      "cell_type": "code",
      "execution_count": null,
      "metadata": {
        "colab": {
          "base_uri": "https://localhost:8080/",
          "height": 1000
        },
        "id": "bc3rqeImVUzE",
        "outputId": "d8706cc7-854a-41d4-af5d-dc88627d74ea"
      },
      "outputs": [],
      "source": [
        "with torch.no_grad():\n",
        "    viewpoint_stack = trainer.GS.scene.getTrainCameras()\n",
        "    viewpoint_cams_to_viz = random.sample(trainer.GS.scene.getTrainCameras(), 4)\n",
        "    for viewpoint_cam in viewpoint_cams_to_viz:\n",
        "        render_pkg = trainer.GS(viewpoint_cam)\n",
        "        image = render_pkg[\"render\"]\n",
        "\n",
        "        image_np = image.clone().detach().cpu().numpy().transpose(1, 2, 0)\n",
        "        image_gt_np = viewpoint_cam.original_image.clone().detach().cpu().numpy().transpose(1, 2, 0)\n",
        "\n",
        "        # Clip values to be in the range [0, 1]\n",
        "        image_np = np.clip(image_np*255, 0, 255).astype(np.uint8)\n",
        "        image_gt_np = np.clip(image_gt_np*255, 0, 255).astype(np.uint8)\n",
        "\n",
        "        fig, ax = plt.subplots(nrows=1, ncols=2, figsize=(12,6))\n",
        "        ax[0].imshow(image_gt_np)\n",
        "        ax[0].axis(\"off\")\n",
        "        ax[1].imshow(image_np)\n",
        "        ax[1].axis(\"off\")\n",
        "        plt.tight_layout()\n",
        "        plt.show()"
      ]
    },
    {
      "cell_type": "markdown",
      "metadata": {
        "id": "gKIWbkT7lJKG"
      },
      "source": [
        "# **Optimize The Scene**"
      ]
    },
    {
      "cell_type": "markdown",
      "metadata": {
        "id": "fSNy3sQclqk5"
      },
      "source": [
        "Optimize first briefly for 5k steps and visualize results. We also disable saving of pretrained models. Train function can be changed for any other method"
      ]
    },
    {
      "cell_type": "code",
      "execution_count": null,
      "metadata": {
        "colab": {
          "base_uri": "https://localhost:8080/",
          "height": 364,
          "referenced_widgets": [
            "0cea1f747fc5405f85da2a9eed4f3861",
            "e80b6fad54c74d33841ff17e300f9231"
          ]
        },
        "id": "UUNa29F5aNKd",
        "outputId": "9df76196-c963-407a-8452-c4d650915900"
      },
      "outputs": [],
      "source": [
        "trainer.saving_iterations = []\n",
        "cfg.train.gs_epochs=5000\n",
        "trainer.train(cfg.train)"
      ]
    },
    {
      "cell_type": "code",
      "execution_count": null,
      "metadata": {
        "colab": {
          "base_uri": "https://localhost:8080/",
          "height": 1000
        },
        "id": "N5XeFCZJlHGh",
        "outputId": "2ae97782-b192-480d-d8da-befdf9c0f4bd"
      },
      "outputs": [],
      "source": [
        "with torch.no_grad():\n",
        "    for viewpoint_cam in viewpoint_cams_to_viz:\n",
        "        render_pkg = trainer.GS(viewpoint_cam)\n",
        "        image = render_pkg[\"render\"]\n",
        "\n",
        "        image_np = image.clone().detach().cpu().numpy().transpose(1, 2, 0)\n",
        "        image_gt_np = viewpoint_cam.original_image.clone().detach().cpu().numpy().transpose(1, 2, 0)\n",
        "\n",
        "        # Clip values to be in the range [0, 1]\n",
        "        image_np = np.clip(image_np*255, 0, 255).astype(np.uint8)\n",
        "        image_gt_np = np.clip(image_gt_np*255, 0, 255).astype(np.uint8)\n",
        "\n",
        "        fig, ax = plt.subplots(nrows=1, ncols=2, figsize=(12,6))\n",
        "        ax[0].imshow(image_gt_np)\n",
        "        ax[0].axis(\"off\")\n",
        "        ax[1].imshow(image_np)\n",
        "        ax[1].axis(\"off\")\n",
        "        plt.tight_layout()\n",
        "        plt.show()"
      ]
    },
    {
      "cell_type": "code",
      "execution_count": null,
      "metadata": {
        "colab": {
          "base_uri": "https://localhost:8080/"
        },
        "id": "prYWKo5Bk35_",
        "outputId": "2f3a9170-1a4b-454c-af52-61fa374b5e08"
      },
      "outputs": [],
      "source": [
        "with torch.no_grad():\n",
        "    trainer.save_model()"
      ]
    },
    {
      "cell_type": "markdown",
      "metadata": {
        "id": "KPPVL902lR8Q"
      },
      "source": [
        "**Continue training until we reach total 30K training steps**"
      ]
    },
    {
      "cell_type": "code",
      "execution_count": null,
      "metadata": {
        "id": "NNMUeYWAaNMx"
      },
      "outputs": [],
      "source": [
        "trainer.saving_iterations = []\n",
        "cfg.train.gs_epochs=15_000\n",
        "trainer.train(cfg.train)"
      ]
    },
    {
      "cell_type": "code",
      "execution_count": null,
      "metadata": {
        "id": "Z9hs6uP3lZJ0"
      },
      "outputs": [],
      "source": [
        "with torch.no_grad():\n",
        "    for viewpoint_cam in viewpoint_cams_to_viz:\n",
        "        render_pkg = trainer.GS(viewpoint_cam)\n",
        "        image = render_pkg[\"render\"]\n",
        "\n",
        "        image_np = image.clone().detach().cpu().numpy().transpose(1, 2, 0)\n",
        "        image_gt_np = viewpoint_cam.original_image.clone().detach().cpu().numpy().transpose(1, 2, 0)\n",
        "\n",
        "        # Clip values to be in the range [0, 1]\n",
        "        image_np = np.clip(image_np*255, 0, 255).astype(np.uint8)\n",
        "        image_gt_np = np.clip(image_gt_np*255, 0, 255).astype(np.uint8)\n",
        "\n",
        "        fig, ax = plt.subplots(nrows=1, ncols=2, figsize=(12,6))\n",
        "        ax[0].imshow(image_gt_np)\n",
        "        ax[0].axis(\"off\")\n",
        "        ax[1].imshow(image_np)\n",
        "        ax[1].axis(\"off\")\n",
        "        plt.tight_layout()\n",
        "        plt.show()"
      ]
    },
    {
      "cell_type": "code",
      "execution_count": null,
      "metadata": {
        "id": "yDqE3hdYaNSh"
      },
      "outputs": [],
      "source": [
        "with torch.no_grad():\n",
        "    trainer.save_model()"
      ]
    },
    {
      "cell_type": "code",
      "execution_count": null,
      "metadata": {
        "id": "E4Xj28ZZlV4P"
      },
      "outputs": [],
      "source": []
    },
    {
      "cell_type": "code",
      "execution_count": null,
      "metadata": {
        "id": "cI8Cxxl5lV6k"
      },
      "outputs": [],
      "source": []
    },
    {
      "cell_type": "code",
      "execution_count": null,
      "metadata": {
        "id": "rYnfcj6clV93"
      },
      "outputs": [],
      "source": []
    },
    {
      "cell_type": "code",
      "execution_count": null,
      "metadata": {
        "colab": {
          "base_uri": "https://localhost:8080/"
        },
        "id": "_L3239OTRNiG",
        "outputId": "176220ac-19fc-4c5e-bba7-5f09f4d1a0bc"
      },
      "outputs": [],
      "source": [
        "import shutil\n",
        "import os\n",
        "\n",
        "folder_path = \"/content/EDGS/assets/video_colmaped\"\n",
        "\n",
        "# Check if the folder exists before deleting\n",
        "if os.path.exists(folder_path) and os.path.isdir(folder_path):\n",
        "    shutil.rmtree(folder_path)\n",
        "    print(f\"Folder '{folder_path}' deleted successfully.\")\n",
        "else:\n",
        "    print(f\"Folder '{folder_path}' does not exist.\")"
      ]
    },
    {
      "cell_type": "code",
      "execution_count": null,
      "metadata": {
        "colab": {
          "base_uri": "https://localhost:8080/",
          "height": 35
        },
        "id": "AYQBRB_TZYGS",
        "outputId": "da715c88-149a-45b6-e194-b7544f1873fa"
      },
      "outputs": [],
      "source": [
        "import shutil\n",
        "\n",
        "folder_path = \"/content/EDGS/scene_edgsed/point_cloud\"\n",
        "zip_path = \"/content/gs_PointCloud_1.zip\"\n",
        "\n",
        "# Create a zip file\n",
        "shutil.make_archive(\"/content/gs_PointCloud_1\", 'zip', folder_path)"
      ]
    },
    {
      "cell_type": "code",
      "execution_count": null,
      "metadata": {
        "id": "HSNW0ZgTRNtt"
      },
      "outputs": [],
      "source": []
    }
  ],
  "metadata": {
    "colab": {
      "provenance": []
    },
    "kernelspec": {
      "display_name": "Python 3",
      "name": "python3"
    },
    "language_info": {
      "name": "python"
    },
    "widgets": {
      "application/vnd.jupyter.widget-state+json": {
        "0cea1f747fc5405f85da2a9eed4f3861": {
          "model_module": "@jupyter-widgets/output",
          "model_module_version": "1.0.0",
          "model_name": "OutputModel",
          "state": {
            "_dom_classes": [],
            "_model_module": "@jupyter-widgets/output",
            "_model_module_version": "1.0.0",
            "_model_name": "OutputModel",
            "_view_count": null,
            "_view_module": "@jupyter-widgets/output",
            "_view_module_version": "1.0.0",
            "_view_name": "OutputView",
            "layout": "IPY_MODEL_e80b6fad54c74d33841ff17e300f9231",
            "msg_id": "",
            "outputs": [
              {
                "data": {
                  "text/html": "<pre style=\"white-space:pre;overflow-x:auto;line-height:normal;font-family:Menlo,'DejaVu Sans Mono',consolas,'Courier New',monospace\"><span style=\"color: #008000; text-decoration-color: #008000\">Train gaussians</span><span style=\"color: #800080; text-decoration-color: #800080\"> 100%</span> <span style=\"color: #f92672; text-decoration-color: #f92672\">━━━━━━━━━━━━━━━━━━━━━━━━━━━━━━━━━━━━━━━━━━━━━━━━━╸</span> <span style=\"color: #008000; text-decoration-color: #008000\">4,999/5,000 </span> [ <span style=\"color: #808000; text-decoration-color: #808000\">0:30:32</span> &lt; <span style=\"color: #008080; text-decoration-color: #008080\">0:00:01</span> , <span style=\"color: #800000; text-decoration-color: #800000\">2 it/s</span> ]\n</pre>\n",
                  "text/plain": "\u001b[32mTrain gaussians\u001b[0m\u001b[35m 100%\u001b[0m \u001b[38;2;249;38;114m━━━━━━━━━━━━━━━━━━━━━━━━━━━━━━━━━━━━━━━━━━━━━━━━━\u001b[0m\u001b[38;2;249;38;114m╸\u001b[0m \u001b[32m4,999/5,000 \u001b[0m [ \u001b[33m0:30:32\u001b[0m < \u001b[36m0:00:01\u001b[0m , \u001b[31m2 it/s\u001b[0m ]\n"
                },
                "metadata": {},
                "output_type": "display_data"
              }
            ]
          }
        },
        "e80b6fad54c74d33841ff17e300f9231": {
          "model_module": "@jupyter-widgets/base",
          "model_module_version": "1.2.0",
          "model_name": "LayoutModel",
          "state": {
            "_model_module": "@jupyter-widgets/base",
            "_model_module_version": "1.2.0",
            "_model_name": "LayoutModel",
            "_view_count": null,
            "_view_module": "@jupyter-widgets/base",
            "_view_module_version": "1.2.0",
            "_view_name": "LayoutView",
            "align_content": null,
            "align_items": null,
            "align_self": null,
            "border": null,
            "bottom": null,
            "display": null,
            "flex": null,
            "flex_flow": null,
            "grid_area": null,
            "grid_auto_columns": null,
            "grid_auto_flow": null,
            "grid_auto_rows": null,
            "grid_column": null,
            "grid_gap": null,
            "grid_row": null,
            "grid_template_areas": null,
            "grid_template_columns": null,
            "grid_template_rows": null,
            "height": null,
            "justify_content": null,
            "justify_items": null,
            "left": null,
            "margin": null,
            "max_height": null,
            "max_width": null,
            "min_height": null,
            "min_width": null,
            "object_fit": null,
            "object_position": null,
            "order": null,
            "overflow": null,
            "overflow_x": null,
            "overflow_y": null,
            "padding": null,
            "right": null,
            "top": null,
            "visibility": null,
            "width": null
          }
        }
      }
    }
  },
  "nbformat": 4,
  "nbformat_minor": 0
}
